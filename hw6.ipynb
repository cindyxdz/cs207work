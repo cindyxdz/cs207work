{
 "cells": [
  {
   "cell_type": "markdown",
   "metadata": {
    "collapsed": true
   },
   "source": [
    "## Q1.\n",
    "\n",
    "Add a __setitem__ to the python linked list implementation from the lecture (this past wednesday)."
   ]
  },
  {
   "cell_type": "code",
   "execution_count": 43,
   "metadata": {
    "collapsed": true
   },
   "outputs": [],
   "source": [
    "#your code here\n",
    "from doctest import run_docstring_examples as dtest\n",
    "import numbers\n",
    "import reprlib\n",
    "class LL:\n",
    "#new tests added to the end to test __setitem__\n",
    "#set empty LL, set within range, set out of range\n",
    "    \"\"\"\n",
    "    >>> A = LL()  \n",
    "    >>> A[0]\n",
    "    Traceback (most recent call last):\n",
    "        ...\n",
    "    IndexError: trying to index an empty LL\n",
    "\n",
    "    >>> A.insert_front(1)\n",
    "    >>> A[0]\n",
    "    1\n",
    "    >>> A.insert_back(2)\n",
    "    >>> A[1]\n",
    "    2\n",
    "    >>> A\n",
    "    LL([1,...])\n",
    "    >>> myll = LL.from_components([1,2])\n",
    "    >>> myll[1]\n",
    "    1\n",
    "    >>> len(myll)\n",
    "    2\n",
    "    >>> myll[2]\n",
    "    Traceback (most recent call last):\n",
    "        ...\n",
    "    IndexError: LL index out of range\n",
    "    >>> myll[0:1]\n",
    "    Traceback (most recent call last):\n",
    "        ...\n",
    "    TypeError: LL indices must be integers\n",
    "    \n",
    "    \n",
    "    >>> A2 = LL()\n",
    "    >>> A2[0] = 2\n",
    "    Traceback (most recent call last):\n",
    "        ...\n",
    "    IndexError: trying to index an empty LL\n",
    "    >>> myll2 = LL.from_components([1,2])\n",
    "    >>> myll2[0] = 1\n",
    "    >>> myll2[0]\n",
    "    1\n",
    "    >>> myll2[1] = 2\n",
    "    >>> myll2[1]\n",
    "    2\n",
    "    >>> myll2[2] = 3\n",
    "    Traceback (most recent call last):\n",
    "        ...\n",
    "    IndexError: LL index out of range\n",
    "    >>> myll2[0:1] = 4\n",
    "    Traceback (most recent call last):\n",
    "        ...\n",
    "    TypeError: LL indices must be integers\n",
    "    \"\"\"\n",
    "    \n",
    "    @classmethod\n",
    "    def from_components(cls, components):\n",
    "        inst = cls(components[0])\n",
    "        for c in components[1:]:\n",
    "            inst.insert_front(c)\n",
    "        return inst\n",
    "        \n",
    "    def __init__(self, head=None):\n",
    "        if head is None:\n",
    "            self._headNode = None\n",
    "        else:\n",
    "            self._headNode = [head, None]\n",
    "            \n",
    "    def insert_front(self, element):\n",
    "        new_node = [element, None]\n",
    "        new_node[1] = self._headNode\n",
    "        self._headNode = new_node\n",
    "        \n",
    "    def insert_back(self, element):\n",
    "        new_node = [element, None]\n",
    "        curr_ptr = self._headNode\n",
    "        while curr_ptr[1] is not None:\n",
    "            curr_ptr = curr_ptr[1]\n",
    "        curr_ptr[1]= new_node\n",
    "        \n",
    "    def __repr__(self):\n",
    "        class_name = type(self).__name__\n",
    "        if len(self)==0:\n",
    "            components=\"\"\n",
    "        else:\n",
    "            components = reprlib.repr(self[0])\n",
    "        return '{}([{},...])'.format(class_name,components)\n",
    "\n",
    "\n",
    "    def __len__(self):\n",
    "        curr_ptr = self._headNode\n",
    "        count = 0\n",
    "        if curr_ptr==None:\n",
    "            return 0\n",
    "        while 1:\n",
    "            count = count + 1\n",
    "            if curr_ptr[1] is None:\n",
    "                break\n",
    "            curr_ptr = curr_ptr[1]\n",
    "        return count    \n",
    "    \n",
    "    def __getitem__(self, index):\n",
    "        class_name = type(self).__name__\n",
    "        if isinstance(index, numbers.Integral): \n",
    "            curr_ptr = self._headNode\n",
    "            if curr_ptr==None:\n",
    "                msg = 'trying to index an empty {class_name}' \n",
    "                raise IndexError(msg.format(class_name=class_name))\n",
    "            next_ptr = self._headNode[1]\n",
    "            count = 0\n",
    "            while 1:\n",
    "                if index == count:\n",
    "                    return curr_ptr[0]\n",
    "                if curr_ptr[1] is None:\n",
    "                    msg = '{class_name} index out of range' \n",
    "                    raise IndexError(msg.format(class_name=class_name))       \n",
    "                count += 1\n",
    "                curr_ptr = curr_ptr[1]\n",
    "        else:\n",
    "            msg = '{class_name} indices must be integers' \n",
    "            raise TypeError(msg.format(class_name=class_name))\n",
    "            \n",
    "    def __setitem__(self, index, value):\n",
    "        class_name = type(self).__name__\n",
    "        if isinstance(index, numbers.Integral): \n",
    "            curr_ptr = self._headNode\n",
    "            if curr_ptr==None:\n",
    "                msg = 'trying to index an empty {class_name}' \n",
    "                raise IndexError(msg.format(class_name=class_name))\n",
    "            count = 0\n",
    "            while 1:\n",
    "                if index == count:\n",
    "                    curr_ptr[0] = value\n",
    "                    return\n",
    "                if curr_ptr[1] is None:\n",
    "                    msg = '{class_name} index out of range' \n",
    "                    raise IndexError(msg.format(class_name=class_name))       \n",
    "                count += 1\n",
    "                curr_ptr = curr_ptr[1]\n",
    "        else:\n",
    "            msg = '{class_name} indices must be integers' \n",
    "            raise TypeError(msg.format(class_name=class_name))"
   ]
  },
  {
   "cell_type": "code",
   "execution_count": 44,
   "metadata": {
    "collapsed": false,
    "scrolled": false
   },
   "outputs": [
    {
     "name": "stdout",
     "output_type": "stream",
     "text": [
      "Finding tests in NoName\n",
      "Trying:\n",
      "    A = LL()  \n",
      "Expecting nothing\n",
      "ok\n",
      "Trying:\n",
      "    A[0]\n",
      "Expecting:\n",
      "    Traceback (most recent call last):\n",
      "        ...\n",
      "    IndexError: trying to index an empty LL\n",
      "ok\n",
      "Trying:\n",
      "    A.insert_front(1)\n",
      "Expecting nothing\n",
      "ok\n",
      "Trying:\n",
      "    A[0]\n",
      "Expecting:\n",
      "    1\n",
      "ok\n",
      "Trying:\n",
      "    A.insert_back(2)\n",
      "Expecting nothing\n",
      "ok\n",
      "Trying:\n",
      "    A[1]\n",
      "Expecting:\n",
      "    2\n",
      "ok\n",
      "Trying:\n",
      "    A\n",
      "Expecting:\n",
      "    LL([1,...])\n",
      "ok\n",
      "Trying:\n",
      "    myll = LL.from_components([1,2])\n",
      "Expecting nothing\n",
      "ok\n",
      "Trying:\n",
      "    myll[1]\n",
      "Expecting:\n",
      "    1\n",
      "ok\n",
      "Trying:\n",
      "    len(myll)\n",
      "Expecting:\n",
      "    2\n",
      "ok\n",
      "Trying:\n",
      "    myll[2]\n",
      "Expecting:\n",
      "    Traceback (most recent call last):\n",
      "        ...\n",
      "    IndexError: LL index out of range\n",
      "ok\n",
      "Trying:\n",
      "    myll[0:1]\n",
      "Expecting:\n",
      "    Traceback (most recent call last):\n",
      "        ...\n",
      "    TypeError: LL indices must be integers\n",
      "ok\n",
      "Trying:\n",
      "    A2 = LL()\n",
      "Expecting nothing\n",
      "ok\n",
      "Trying:\n",
      "    A2[0] = 2\n",
      "Expecting:\n",
      "    Traceback (most recent call last):\n",
      "        ...\n",
      "    IndexError: trying to index an empty LL\n",
      "ok\n",
      "Trying:\n",
      "    myll2 = LL.from_components([1,2])\n",
      "Expecting nothing\n",
      "ok\n",
      "Trying:\n",
      "    myll2[0] = 1\n",
      "Expecting nothing\n",
      "ok\n",
      "Trying:\n",
      "    myll2[0]\n",
      "Expecting:\n",
      "    1\n",
      "ok\n",
      "Trying:\n",
      "    myll2[1] = 2\n",
      "Expecting nothing\n",
      "ok\n",
      "Trying:\n",
      "    myll2[1]\n",
      "Expecting:\n",
      "    2\n",
      "ok\n",
      "Trying:\n",
      "    myll2[2] = 3\n",
      "Expecting:\n",
      "    Traceback (most recent call last):\n",
      "        ...\n",
      "    IndexError: LL index out of range\n",
      "ok\n",
      "Trying:\n",
      "    myll2[0:1] = 4\n",
      "Expecting:\n",
      "    Traceback (most recent call last):\n",
      "        ...\n",
      "    TypeError: LL indices must be integers\n",
      "ok\n"
     ]
    }
   ],
   "source": [
    "dtest(LL, globals(), verbose = True)"
   ]
  },
  {
   "cell_type": "markdown",
   "metadata": {},
   "source": [
    "## Q2.\n",
    "\n",
    "An online mean and standard deviation algorithm.\n",
    "\n",
    "Below is a function to generate a potentially infinite stream of 1-D data."
   ]
  },
  {
   "cell_type": "code",
   "execution_count": 3,
   "metadata": {
    "collapsed": false
   },
   "outputs": [],
   "source": [
    "from random import normalvariate, random\n",
    "from itertools import count\n",
    "def make_data(m, stop=None):\n",
    "    for _ in count():\n",
    "        if stop and _ > stop:\n",
    "            break\n",
    "        yield 1.0e09 + normalvariate(0, m*random() )\n",
    "        "
   ]
  },
  {
   "cell_type": "markdown",
   "metadata": {},
   "source": [
    "Here is an implementation of an online mean algorithm..see http://www.johndcook.com/blog/standard_deviation/ and the link to http://www.johndcook.com/blog/2008/09/26/comparing-three-methods-of-computing-standard-deviation/ in-between. (Convince yourselves of the formulas...)"
   ]
  },
  {
   "cell_type": "code",
   "execution_count": 4,
   "metadata": {
    "collapsed": true
   },
   "outputs": [],
   "source": [
    "def online_mean(iterator):\n",
    "    n = 0\n",
    "    mu = 0\n",
    "    for value in iterator:\n",
    "        n += 1\n",
    "        delta = value - mu\n",
    "        mu = mu + delta/n\n",
    "        yield mu"
   ]
  },
  {
   "cell_type": "markdown",
   "metadata": {},
   "source": [
    "We use out generator functions to implement iterators:"
   ]
  },
  {
   "cell_type": "code",
   "execution_count": 5,
   "metadata": {
    "collapsed": false
   },
   "outputs": [
    {
     "data": {
      "text/plain": [
       "[999999993.8384236,\n",
       " 1000000000.5495237,\n",
       " 1000000000.772547,\n",
       " 999999998.8999162,\n",
       " 999999998.5064459,\n",
       " 1000000002.348968,\n",
       " 1000000000.2106742,\n",
       " 999999999.8147871,\n",
       " 999999999.6956822,\n",
       " 999999999.4627386,\n",
       " 999999999.9252256]"
      ]
     },
     "execution_count": 5,
     "metadata": {},
     "output_type": "execute_result"
    }
   ],
   "source": [
    "g = make_data(5, 10)\n",
    "list(g)"
   ]
  },
  {
   "cell_type": "code",
   "execution_count": 6,
   "metadata": {
    "collapsed": false
   },
   "outputs": [
    {
     "name": "stdout",
     "output_type": "stream",
     "text": [
      "<class 'generator'>\n"
     ]
    },
    {
     "data": {
      "text/plain": [
       "[999999999.8765985,\n",
       " 999999999.5133018,\n",
       " 999999998.4182781,\n",
       " 999999998.6157734,\n",
       " 999999999.2563376,\n",
       " 999999999.2665768,\n",
       " 999999999.2388278,\n",
       " 999999999.240721,\n",
       " 999999999.2934449,\n",
       " 999999999.496358,\n",
       " 999999999.5575627,\n",
       " 999999999.6853868,\n",
       " 999999999.9266659,\n",
       " 1000000000.3908746,\n",
       " 1000000000.3132662,\n",
       " 1000000000.2467151,\n",
       " 1000000000.1695029,\n",
       " 1000000000.065506,\n",
       " 1000000000.3179549,\n",
       " 1000000000.3746504,\n",
       " 1000000000.4222432,\n",
       " 1000000000.2301168,\n",
       " 1000000000.2731764,\n",
       " 1000000000.1965101,\n",
       " 1000000000.2741431,\n",
       " 1000000000.2794565,\n",
       " 1000000000.270151,\n",
       " 1000000000.250455,\n",
       " 1000000000.5065304,\n",
       " 1000000000.4977536,\n",
       " 1000000000.456359,\n",
       " 1000000000.4345015,\n",
       " 1000000000.2867109,\n",
       " 1000000000.1970402,\n",
       " 1000000000.2429565,\n",
       " 1000000000.2693764,\n",
       " 1000000000.2644228,\n",
       " 1000000000.1315507,\n",
       " 1000000000.0821539,\n",
       " 1000000000.1031643,\n",
       " 1000000000.1108197,\n",
       " 1000000000.1340512,\n",
       " 1000000000.1145788,\n",
       " 1000000000.0991111,\n",
       " 999999999.9936292,\n",
       " 999999999.96129,\n",
       " 999999999.9585853,\n",
       " 999999999.9159905,\n",
       " 999999999.9177753,\n",
       " 999999999.9137869,\n",
       " 999999999.8804612,\n",
       " 999999999.8559346,\n",
       " 999999999.894742,\n",
       " 999999999.8927822,\n",
       " 999999999.8515532,\n",
       " 999999999.8234463,\n",
       " 999999999.7719455,\n",
       " 999999999.790449,\n",
       " 999999999.8204474,\n",
       " 999999999.836559,\n",
       " 999999999.8485833,\n",
       " 999999999.8281823,\n",
       " 999999999.8232545,\n",
       " 999999999.8351086,\n",
       " 999999999.9014505,\n",
       " 999999999.9014555,\n",
       " 999999999.8358598,\n",
       " 999999999.9560611,\n",
       " 999999999.9283913,\n",
       " 999999999.8741523,\n",
       " 999999999.7754178,\n",
       " 999999999.7662197,\n",
       " 999999999.7628595,\n",
       " 999999999.7903951,\n",
       " 999999999.8170056,\n",
       " 999999999.8459115,\n",
       " 999999999.8708172,\n",
       " 999999999.8723286,\n",
       " 999999999.8325523,\n",
       " 999999999.8319619,\n",
       " 999999999.8213398,\n",
       " 999999999.738792,\n",
       " 999999999.7466633,\n",
       " 999999999.7692983,\n",
       " 999999999.7885765,\n",
       " 999999999.794831,\n",
       " 999999999.7948433,\n",
       " 999999999.8180588,\n",
       " 999999999.7004893,\n",
       " 999999999.6883869,\n",
       " 999999999.6546092,\n",
       " 999999999.6374018,\n",
       " 999999999.6399213,\n",
       " 999999999.6100845,\n",
       " 999999999.6146761,\n",
       " 999999999.6111296,\n",
       " 999999999.5735681,\n",
       " 999999999.6154534,\n",
       " 999999999.621097,\n",
       " 999999999.6261575,\n",
       " 999999999.618123]"
      ]
     },
     "execution_count": 6,
     "metadata": {},
     "output_type": "execute_result"
    }
   ],
   "source": [
    "g = online_mean(make_data(5, 100))\n",
    "print(type(g))\n",
    "list(g)"
   ]
  },
  {
   "cell_type": "markdown",
   "metadata": {},
   "source": [
    "### 2.1\n",
    "\n",
    "Implement the standard deviation algorithm as a generator function as\n",
    "\n",
    "```python\n",
    "def online_mean_dev(iterator):\n",
    "    BLA BLA\n",
    "    if n > 1:\n",
    "        stddev = math.sqrt(dev_accum/(n-1))\n",
    "        yield (n, value, mu, stddev)\n",
    "```"
   ]
  },
  {
   "cell_type": "code",
   "execution_count": 16,
   "metadata": {
    "collapsed": true
   },
   "outputs": [],
   "source": [
    "import math\n",
    "def online_mean_dev(iterator):\n",
    "    n = 0\n",
    "    mean = 0\n",
    "    sd = 0\n",
    "    for value in iterator:\n",
    "        n += 1\n",
    "        if (n == 1):\n",
    "            mean = value\n",
    "            old_mean = mean\n",
    "            yield (n, value, mean, sd)\n",
    "        else:\n",
    "            mean = old_mean + (value - old_mean)/n\n",
    "            sd = sd + (value - mean) * (value - old_mean)           \n",
    "            old_mean = mean\n",
    "            stddev = math.sqrt(sd/(n-1))\n",
    "            yield (n, value, mean, stddev)\n",
    "            "
   ]
  },
  {
   "cell_type": "markdown",
   "metadata": {},
   "source": [
    "Here we make 100000 element data, and run this iterator on it (imagine running this on a time-series being slowly read from disk"
   ]
  },
  {
   "cell_type": "code",
   "execution_count": 22,
   "metadata": {
    "collapsed": false
   },
   "outputs": [],
   "source": [
    "data_with_stats = online_mean_dev(make_data(5, 100000))"
   ]
  },
  {
   "cell_type": "code",
   "execution_count": 23,
   "metadata": {
    "collapsed": false
   },
   "outputs": [
    {
     "name": "stdout",
     "output_type": "stream",
     "text": [
      "(1, 999999995.3599572, 999999995.3599572, 0)\n",
      "(2, 999999997.7252474, 999999996.5426023, 1.6725127151082317)\n",
      "(3, 999999998.8042665, 999999997.2964903, 1.7617295521923202)\n",
      "(4, 1000000002.2648797, 999999998.5385877, 2.8706010836418714)\n",
      "(5, 1000000000.3018032, 999999998.8912308, 2.6080737594902823)\n",
      "(6, 1000000000.2221392, 999999999.1130489, 2.3951740059370246)\n",
      "(7, 999999998.2495486, 999999998.9896917, 2.210709030055368)\n",
      "(8, 1000000000.575103, 999999999.1878681, 2.1220860503403594)\n",
      "(9, 1000000000.7931548, 999999999.3662333, 2.055886747397139)\n",
      "(10, 1000000001.7668635, 999999999.6062963, 2.081668271911182)\n",
      "(11, 999999997.2900347, 999999999.395727, 2.0946937644569554)\n",
      "(12, 1000000007.2326176, 1000000000.0488013, 3.017768622580533)\n",
      "(13, 1000000000.1188293, 1000000000.054188, 2.8893587631588202)\n",
      "(14, 1000000005.3759634, 1000000000.4343148, 3.1191600557614043)\n",
      "(15, 1000000000.9094023, 1000000000.4659873, 3.0081999095495884)\n"
     ]
    }
   ],
   "source": [
    "for i in range(15):\n",
    "    print(next(data_with_stats))"
   ]
  },
  {
   "cell_type": "markdown",
   "metadata": {},
   "source": [
    "## Q3.\n",
    "\n",
    "Let's do Anomaly detection. Write a routine `is_ok`:\n",
    "\n",
    "```python\n",
    "def is_ok(level, t)\n",
    "```\n",
    "\n",
    "which takes a tuple like the one yielded by your code above and returns True if the value is inbetween `level`-$\\sigma$ of the mean."
   ]
  },
  {
   "cell_type": "code",
   "execution_count": 24,
   "metadata": {
    "collapsed": true
   },
   "outputs": [],
   "source": [
    "#your code here\n",
    "def is_ok(level, t):\n",
    "    value = t[1]\n",
    "    mean = t[2]\n",
    "    sigma = t[3]\n",
    "    if (abs(value-mean) <= level*sigma):\n",
    "        return True\n",
    "    else:\n",
    "        return False"
   ]
  },
  {
   "cell_type": "markdown",
   "metadata": {},
   "source": [
    "We use this function to create a predicate passed through to `itertools.filterfalse` which is then used to obtain an iterator on the anomalies."
   ]
  },
  {
   "cell_type": "code",
   "execution_count": 25,
   "metadata": {
    "collapsed": true
   },
   "outputs": [],
   "source": [
    "from itertools import filterfalse\n",
    "pred = lambda t: is_ok(5, t)\n",
    "anomalies = filterfalse(pred, data_with_stats)"
   ]
  },
  {
   "cell_type": "markdown",
   "metadata": {},
   "source": [
    "We materialize the anomalies..."
   ]
  },
  {
   "cell_type": "code",
   "execution_count": 26,
   "metadata": {
    "collapsed": false
   },
   "outputs": [
    {
     "data": {
      "text/plain": [
       "[(5477, 999999985.5884202, 1000000000.0736809, 2.8326090938367416),\n",
       " (5605, 999999985.6913798, 1000000000.0749532, 2.833990434033616),\n",
       " (7406, 999999985.2460442, 1000000000.0609831, 2.8295240514802207),\n",
       " (11050, 1000000016.2057291, 1000000000.0244077, 2.8752822717212134),\n",
       " (23528, 999999983.7146575, 1000000000.0148574, 2.910959658434458),\n",
       " (24952, 999999983.4583238, 1000000000.0149993, 2.902589037180648),\n",
       " (26859, 999999984.2076596, 1000000000.0052911, 2.910902579002287),\n",
       " (28564, 999999984.2333705, 1000000000.002831, 2.907581295812897),\n",
       " (31068, 1000000018.5829195, 1000000000.0034693, 2.901580028641424),\n",
       " (35441, 1000000016.4521388, 1000000000.0015041, 2.899102966554683),\n",
       " (36317, 1000000016.3828644, 1000000000.0022899, 2.9005457018696577),\n",
       " (36904, 999999982.6080816, 1000000000.0021427, 2.9033598563837155),\n",
       " (42157, 999999984.3837459, 999999999.9973875, 2.9070050298770185),\n",
       " (50740, 1000000015.2537875, 999999999.9986571, 2.896676509481775),\n",
       " (55685, 999999983.348064, 1000000000.0047837, 2.8948992253925687),\n",
       " (59256, 1000000015.0413961, 1000000000.0116441, 2.8927997098551126),\n",
       " (61851, 999999985.5098486, 1000000000.0090649, 2.8951007124903283),\n",
       " (63802, 999999983.3586726, 1000000000.0092173, 2.8966904394076223),\n",
       " (65794, 999999985.1909307, 1000000000.0095037, 2.897054430426584),\n",
       " (67571, 1000000015.7886921, 1000000000.0113038, 2.8974569439030553),\n",
       " (69258, 999999984.8400788, 1000000000.0132086, 2.899674986580926),\n",
       " (74118, 999999985.4819205, 1000000000.005053, 2.896254089416013),\n",
       " (75983, 1000000018.0666513, 1000000000.0047834, 2.894846802573562),\n",
       " (76148, 1000000014.9023796, 1000000000.0054157, 2.8956393250571613),\n",
       " (78945, 1000000015.3737864, 1000000000.0037172, 2.895188396182088),\n",
       " (79205, 999999984.3677406, 1000000000.0025524, 2.895154572469185),\n",
       " (81160, 1000000014.9025795, 1000000000.0020258, 2.8962423120253504),\n",
       " (81553, 1000000015.0875257, 1000000000.003131, 2.896193485406764),\n",
       " (87019, 1000000020.1132584, 1000000000.0027828, 2.8948069966183176),\n",
       " (88612, 999999985.0329733, 1000000000.0010922, 2.8945366011530242),\n",
       " (93536, 999999982.8977141, 999999999.9996545, 2.8939063688725417),\n",
       " (99454, 999999983.7548162, 1000000000.0035553, 2.896085167280512)]"
      ]
     },
     "execution_count": 26,
     "metadata": {},
     "output_type": "execute_result"
    }
   ],
   "source": [
    "list(anomalies)#materialize"
   ]
  },
  {
   "cell_type": "markdown",
   "metadata": {},
   "source": [
    "## To think of, but not hand in\n",
    "\n",
    "What kinds of anomalies will this algorithm pick up? What kinds would a shorter \"window\" of anomaly detection, like 100 points around the time in question pick? How might you create an algorithm which does window based averaging? (hint: the window size is small compared to the time series size). \n",
    "\n",
    "Finally think a bit of how you might implement all of this in a production environment..remember that data streaming in might get backed up when you handle an anomaly.\n",
    "\n",
    "(Some inspiration might accrue if you look at the docs for `collections.deque`)."
   ]
  }
 ],
 "metadata": {
  "anaconda-cloud": {},
  "kernelspec": {
   "display_name": "Python [py35]",
   "language": "python",
   "name": "Python [py35]"
  },
  "language_info": {
   "codemirror_mode": {
    "name": "ipython",
    "version": 3
   },
   "file_extension": ".py",
   "mimetype": "text/x-python",
   "name": "python",
   "nbconvert_exporter": "python",
   "pygments_lexer": "ipython3",
   "version": "3.5.2"
  }
 },
 "nbformat": 4,
 "nbformat_minor": 0
}
